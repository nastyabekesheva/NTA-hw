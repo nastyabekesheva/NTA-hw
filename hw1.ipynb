{
 "cells": [
  {
   "cell_type": "markdown",
   "metadata": {},
   "source": [
    "# Import modules"
   ]
  },
  {
   "cell_type": "code",
   "execution_count": 62,
   "metadata": {},
   "outputs": [],
   "source": [
    "import math\n",
    "import timeit\n",
    "import pandas as pd\n",
    "\n",
    "# hide output while measuring time\n",
    "import contextlib\n",
    "import io"
   ]
  },
  {
   "cell_type": "markdown",
   "metadata": {},
   "source": [
    "# Rho-Pollard"
   ]
  },
  {
   "cell_type": "markdown",
   "metadata": {},
   "source": [
    "For $k=2^h+1$ modification we need to calculate $2^h\\leq l<2^h+1$ for known $l$. I tried using some bisect methos from scipy but it turned out to be much slower than my iterative method."
   ]
  },
  {
   "cell_type": "code",
   "execution_count": 63,
   "metadata": {},
   "outputs": [],
   "source": [
    "def calculate_h(l):\n",
    "    h = 0\n",
    "    while 2 ** (h + 1) <= l:\n",
    "        h += 1\n",
    "    return int(h)"
   ]
  },
  {
   "cell_type": "code",
   "execution_count": 64,
   "metadata": {},
   "outputs": [],
   "source": [
    "import math\n",
    "def check_classic(orbit, n):\n",
    "    for k in range(len(orbit)):\n",
    "        for j in range(k):\n",
    "            d = math.gcd(abs(orbit[k]-orbit[j]), n)\n",
    "            print(f\"x_{k}, x_{j}: gcd({abs(orbit[k]-orbit[j])}, {n}) = {d}\")\n",
    "            if d != 1:\n",
    "                return d\n",
    "            \n",
    "    return None\n",
    "\n",
    "def check_floyd(orbit, n):\n",
    "    for k in range(len(orbit)):\n",
    "        if 2*k < len(orbit):\n",
    "            d = math.gcd(abs(orbit[2*k]-orbit[k]), n)\n",
    "            print(f\"x_{2*k}, x_{k}: gcd({abs(orbit[2*k]-orbit[k])}, {n}) = {d}\")\n",
    "            if d != 1 and 2*k != k:\n",
    "                return d\n",
    "            \n",
    "    return None\n",
    "\n",
    "def check_modification(orbit, n):\n",
    "    for k in range(len(orbit)):\n",
    "        h = calculate_h(k)\n",
    "        j = 2**h - 1\n",
    "        d = math.gcd(abs(orbit[k]-orbit[j]), n)\n",
    "        print(f\"x_{k}, x_{j}: gcd({abs(orbit[k]-orbit[j])}, {n}) = {d}\")\n",
    "        if d != 1 and k != j:\n",
    "            return d\n",
    "            \n",
    "    return None"
   ]
  },
  {
   "cell_type": "markdown",
   "metadata": {},
   "source": [
    "Creating orbit where $x_0$ is specified, $x_1=f(x_0), x_2=f(x_1)...$, stop as soons as there is a collision."
   ]
  },
  {
   "cell_type": "code",
   "execution_count": 87,
   "metadata": {},
   "outputs": [],
   "source": [
    "def create_orbit(initial_x, f, n):\n",
    "    orbit = [initial_x]\n",
    "    new_x = f(initial_x, n)\n",
    "    i = 1\n",
    "    while new_x not in orbit:\n",
    "        orbit.append(new_x)\n",
    "        new_x = f(orbit[i], n)\n",
    "        i += 1\n",
    "    return orbit"
   ]
  },
  {
   "cell_type": "code",
   "execution_count": 66,
   "metadata": {},
   "outputs": [],
   "source": [
    "def rho_pollard(f, n, x, method=\"classic\"):\n",
    "    orbit = create_orbit(x, f, n)\n",
    "    if method == \"classic\":\n",
    "        d = check_classic(orbit, n)\n",
    "    elif method == \"floyd\":\n",
    "        d = check_floyd(orbit, n)\n",
    "    elif method == \"modification\":\n",
    "        d = check_modification(orbit, n)\n",
    "    else:\n",
    "        print(\"Wrong methos specified\")\n",
    "    if d:\n",
    "        return d, int(n / d)\n"
   ]
  },
  {
   "cell_type": "markdown",
   "metadata": {},
   "source": [
    "# Fermat"
   ]
  },
  {
   "cell_type": "code",
   "execution_count": 67,
   "metadata": {},
   "outputs": [],
   "source": [
    "def fermat(n):\n",
    "    x = int(math.sqrt(n))\n",
    "    y = 0\n",
    "    k = 0\n",
    "    while True:\n",
    "        r = x**2-y**2-n\n",
    "        print(f\"r_{k} = {x}^2-{y}^2-{n} = {r}\")\n",
    "        if r == 0:\n",
    "            flag = False\n",
    "            return math.gcd(x+y, n), math.gcd(abs(x-y), n)\n",
    "        elif r > 0:\n",
    "            y = y+1\n",
    "        elif r < 0:\n",
    "            x = x+1\n",
    "        k += 1"
   ]
  },
  {
   "cell_type": "code",
   "execution_count": 86,
   "metadata": {},
   "outputs": [],
   "source": [
    "def f1(x, n):\n",
    "    return (x**2+x+1) % n\n",
    "\n",
    "def f2(x, n):\n",
    "    return (x**2-1) % n"
   ]
  },
  {
   "cell_type": "markdown",
   "metadata": {},
   "source": [
    "# Tasks"
   ]
  },
  {
   "cell_type": "code",
   "execution_count": 69,
   "metadata": {},
   "outputs": [
    {
     "name": "stdout",
     "output_type": "stream",
     "text": [
      "x_1, x_0: gcd(2, 527) = 1\n",
      "x_2, x_0: gcd(12, 527) = 1\n",
      "x_2, x_1: gcd(10, 527) = 1\n",
      "x_3, x_0: gcd(182, 527) = 1\n",
      "x_3, x_1: gcd(180, 527) = 1\n",
      "x_3, x_2: gcd(170, 527) = 17\n"
     ]
    },
    {
     "data": {
      "text/plain": [
       "(17, 31)"
      ]
     },
     "execution_count": 69,
     "metadata": {},
     "output_type": "execute_result"
    }
   ],
   "source": [
    "rho_pollard(f1, 527, 1, method=\"classic\")"
   ]
  },
  {
   "cell_type": "code",
   "execution_count": 70,
   "metadata": {},
   "outputs": [
    {
     "name": "stdout",
     "output_type": "stream",
     "text": [
      "x_0, x_0: gcd(0, 527) = 527\n",
      "x_2, x_1: gcd(10, 527) = 1\n",
      "x_4, x_2: gcd(459, 527) = 17\n"
     ]
    },
    {
     "data": {
      "text/plain": [
       "(17, 31)"
      ]
     },
     "execution_count": 70,
     "metadata": {},
     "output_type": "execute_result"
    }
   ],
   "source": [
    "rho_pollard(f1, 527, 1, method=\"floyd\")"
   ]
  },
  {
   "cell_type": "code",
   "execution_count": 83,
   "metadata": {},
   "outputs": [
    {
     "name": "stdout",
     "output_type": "stream",
     "text": [
      "x_1, x_0: gcd(2, 527) = 1\n",
      "x_2, x_0: gcd(12, 527) = 1\n",
      "x_2, x_1: gcd(10, 527) = 1\n",
      "x_3, x_0: gcd(182, 527) = 1\n",
      "x_3, x_1: gcd(180, 527) = 1\n",
      "x_3, x_2: gcd(170, 527) = 17\n"
     ]
    },
    {
     "data": {
      "text/plain": [
       "(17, 31)"
      ]
     },
     "execution_count": 83,
     "metadata": {},
     "output_type": "execute_result"
    }
   ],
   "source": [
    "rho_pollard(f1, 527, 1, method=\"classic\")"
   ]
  },
  {
   "cell_type": "code",
   "execution_count": 88,
   "metadata": {},
   "outputs": [
    {
     "name": "stdout",
     "output_type": "stream",
     "text": [
      "x_1, x_0: gcd(19, 7031) = 1\n",
      "x_2, x_0: gcd(570, 7031) = 1\n",
      "x_2, x_1: gcd(551, 7031) = 1\n",
      "x_3, x_0: gcd(162, 7031) = 1\n",
      "x_3, x_1: gcd(143, 7031) = 1\n",
      "x_3, x_2: gcd(408, 7031) = 1\n",
      "x_4, x_0: gcd(6790, 7031) = 1\n",
      "x_4, x_1: gcd(6771, 7031) = 1\n",
      "x_4, x_2: gcd(6220, 7031) = 1\n",
      "x_4, x_3: gcd(6628, 7031) = 1\n",
      "x_5, x_0: gcd(6473, 7031) = 1\n",
      "x_5, x_1: gcd(6454, 7031) = 1\n",
      "x_5, x_2: gcd(5903, 7031) = 1\n",
      "x_5, x_3: gcd(6311, 7031) = 1\n",
      "x_5, x_4: gcd(317, 7031) = 1\n",
      "x_6, x_0: gcd(3470, 7031) = 1\n",
      "x_6, x_1: gcd(3451, 7031) = 1\n",
      "x_6, x_2: gcd(2900, 7031) = 1\n",
      "x_6, x_3: gcd(3308, 7031) = 1\n",
      "x_6, x_4: gcd(3320, 7031) = 1\n",
      "x_6, x_5: gcd(3003, 7031) = 1\n",
      "x_7, x_0: gcd(3392, 7031) = 1\n",
      "x_7, x_1: gcd(3373, 7031) = 1\n",
      "x_7, x_2: gcd(2822, 7031) = 1\n",
      "x_7, x_3: gcd(3230, 7031) = 1\n",
      "x_7, x_4: gcd(3398, 7031) = 1\n",
      "x_7, x_5: gcd(3081, 7031) = 79\n"
     ]
    },
    {
     "data": {
      "text/plain": [
       "(79, 89)"
      ]
     },
     "execution_count": 88,
     "metadata": {},
     "output_type": "execute_result"
    }
   ],
   "source": [
    "rho_pollard(f2, 7031, 5, method=\"classic\")"
   ]
  },
  {
   "cell_type": "code",
   "execution_count": 89,
   "metadata": {},
   "outputs": [
    {
     "name": "stdout",
     "output_type": "stream",
     "text": [
      "x_0, x_0: gcd(0, 7031) = 7031\n",
      "x_2, x_1: gcd(551, 7031) = 1\n",
      "x_4, x_2: gcd(6220, 7031) = 1\n",
      "x_6, x_3: gcd(3308, 7031) = 1\n",
      "x_8, x_4: gcd(5058, 7031) = 1\n",
      "x_10, x_5: gcd(3635, 7031) = 1\n",
      "x_12, x_6: gcd(1817, 7031) = 79\n"
     ]
    },
    {
     "data": {
      "text/plain": [
       "(79, 89)"
      ]
     },
     "execution_count": 89,
     "metadata": {},
     "output_type": "execute_result"
    }
   ],
   "source": [
    "rho_pollard(f2, 7031, 5, method=\"floyd\")"
   ]
  },
  {
   "cell_type": "code",
   "execution_count": 90,
   "metadata": {},
   "outputs": [
    {
     "name": "stdout",
     "output_type": "stream",
     "text": [
      "x_0, x_0: gcd(0, 7031) = 7031\n",
      "x_1, x_0: gcd(19, 7031) = 1\n",
      "x_2, x_1: gcd(551, 7031) = 1\n",
      "x_3, x_1: gcd(143, 7031) = 1\n",
      "x_4, x_3: gcd(6628, 7031) = 1\n",
      "x_5, x_3: gcd(6311, 7031) = 1\n",
      "x_6, x_3: gcd(3308, 7031) = 1\n",
      "x_7, x_3: gcd(3230, 7031) = 1\n",
      "x_8, x_7: gcd(1660, 7031) = 1\n",
      "x_9, x_7: gcd(2528, 7031) = 79\n"
     ]
    },
    {
     "data": {
      "text/plain": [
       "(79, 89)"
      ]
     },
     "execution_count": 90,
     "metadata": {},
     "output_type": "execute_result"
    }
   ],
   "source": [
    "rho_pollard(f2, 7031, 5, method=\"modification\")"
   ]
  },
  {
   "cell_type": "code",
   "execution_count": 79,
   "metadata": {},
   "outputs": [
    {
     "name": "stdout",
     "output_type": "stream",
     "text": [
      "r_0 = 448^2-0^2-200819 = -115\n",
      "r_1 = 449^2-0^2-200819 = 782\n",
      "r_2 = 449^2-1^2-200819 = 781\n",
      "r_3 = 449^2-2^2-200819 = 778\n",
      "r_4 = 449^2-3^2-200819 = 773\n",
      "r_5 = 449^2-4^2-200819 = 766\n",
      "r_6 = 449^2-5^2-200819 = 757\n",
      "r_7 = 449^2-6^2-200819 = 746\n",
      "r_8 = 449^2-7^2-200819 = 733\n",
      "r_9 = 449^2-8^2-200819 = 718\n",
      "r_10 = 449^2-9^2-200819 = 701\n",
      "r_11 = 449^2-10^2-200819 = 682\n",
      "r_12 = 449^2-11^2-200819 = 661\n",
      "r_13 = 449^2-12^2-200819 = 638\n",
      "r_14 = 449^2-13^2-200819 = 613\n",
      "r_15 = 449^2-14^2-200819 = 586\n",
      "r_16 = 449^2-15^2-200819 = 557\n",
      "r_17 = 449^2-16^2-200819 = 526\n",
      "r_18 = 449^2-17^2-200819 = 493\n",
      "r_19 = 449^2-18^2-200819 = 458\n",
      "r_20 = 449^2-19^2-200819 = 421\n",
      "r_21 = 449^2-20^2-200819 = 382\n",
      "r_22 = 449^2-21^2-200819 = 341\n",
      "r_23 = 449^2-22^2-200819 = 298\n",
      "r_24 = 449^2-23^2-200819 = 253\n",
      "r_25 = 449^2-24^2-200819 = 206\n",
      "r_26 = 449^2-25^2-200819 = 157\n",
      "r_27 = 449^2-26^2-200819 = 106\n",
      "r_28 = 449^2-27^2-200819 = 53\n",
      "r_29 = 449^2-28^2-200819 = -2\n",
      "r_30 = 450^2-28^2-200819 = 897\n",
      "r_31 = 450^2-29^2-200819 = 840\n",
      "r_32 = 450^2-30^2-200819 = 781\n",
      "r_33 = 450^2-31^2-200819 = 720\n",
      "r_34 = 450^2-32^2-200819 = 657\n",
      "r_35 = 450^2-33^2-200819 = 592\n",
      "r_36 = 450^2-34^2-200819 = 525\n",
      "r_37 = 450^2-35^2-200819 = 456\n",
      "r_38 = 450^2-36^2-200819 = 385\n",
      "r_39 = 450^2-37^2-200819 = 312\n",
      "r_40 = 450^2-38^2-200819 = 237\n",
      "r_41 = 450^2-39^2-200819 = 160\n",
      "r_42 = 450^2-40^2-200819 = 81\n",
      "r_43 = 450^2-41^2-200819 = 0\n"
     ]
    },
    {
     "data": {
      "text/plain": [
       "(491, 409)"
      ]
     },
     "execution_count": 79,
     "metadata": {},
     "output_type": "execute_result"
    }
   ],
   "source": [
    "fermat(200819)"
   ]
  },
  {
   "cell_type": "markdown",
   "metadata": {},
   "source": [
    "# Time tests"
   ]
  },
  {
   "cell_type": "code",
   "execution_count": 75,
   "metadata": {},
   "outputs": [],
   "source": [
    "index = ['classic', 'floyd', 'modification']\n",
    "columns = ['test-1', 'test-2']\n",
    "df = pd.DataFrame(index=index, columns=columns)"
   ]
  },
  {
   "cell_type": "code",
   "execution_count": 76,
   "metadata": {},
   "outputs": [
    {
     "name": "stderr",
     "output_type": "stream",
     "text": [
      "/var/folders/kl/jfwvxx3s68qd0pvk126hj5w40000gn/T/ipykernel_48972/1654256912.py:4: FutureWarning: Series.__setitem__ treating keys as positions is deprecated. In a future version, integer keys will always be treated as labels (consistent with DataFrame behavior). To set a value by position, use `ser.iloc[pos] = value`\n",
      "  df['test-1'][0] = timeit.timeit(lambda: rho_pollard(f1, 527, 1, method=\"classic\"), number=100) / 100\n",
      "/var/folders/kl/jfwvxx3s68qd0pvk126hj5w40000gn/T/ipykernel_48972/1654256912.py:5: FutureWarning: Series.__setitem__ treating keys as positions is deprecated. In a future version, integer keys will always be treated as labels (consistent with DataFrame behavior). To set a value by position, use `ser.iloc[pos] = value`\n",
      "  df['test-1'][1] = timeit.timeit(lambda: rho_pollard(f1, 527, 1, method=\"floyd\"), number=100) / 100\n",
      "/var/folders/kl/jfwvxx3s68qd0pvk126hj5w40000gn/T/ipykernel_48972/1654256912.py:6: FutureWarning: Series.__setitem__ treating keys as positions is deprecated. In a future version, integer keys will always be treated as labels (consistent with DataFrame behavior). To set a value by position, use `ser.iloc[pos] = value`\n",
      "  df['test-1'][2] = timeit.timeit(lambda: rho_pollard(f1, 527, 1, method=\"modification\"), number=100) / 100\n",
      "/var/folders/kl/jfwvxx3s68qd0pvk126hj5w40000gn/T/ipykernel_48972/1654256912.py:7: FutureWarning: Series.__setitem__ treating keys as positions is deprecated. In a future version, integer keys will always be treated as labels (consistent with DataFrame behavior). To set a value by position, use `ser.iloc[pos] = value`\n",
      "  df['test-2'][0] = timeit.timeit(lambda: rho_pollard(f2, 7031, 5, method=\"classic\"), number=100) / 100\n",
      "/var/folders/kl/jfwvxx3s68qd0pvk126hj5w40000gn/T/ipykernel_48972/1654256912.py:8: FutureWarning: Series.__setitem__ treating keys as positions is deprecated. In a future version, integer keys will always be treated as labels (consistent with DataFrame behavior). To set a value by position, use `ser.iloc[pos] = value`\n",
      "  df['test-2'][1] = timeit.timeit(lambda: rho_pollard(f2, 7031, 5, method=\"floyd\"), number=100) / 100\n",
      "/var/folders/kl/jfwvxx3s68qd0pvk126hj5w40000gn/T/ipykernel_48972/1654256912.py:9: FutureWarning: Series.__setitem__ treating keys as positions is deprecated. In a future version, integer keys will always be treated as labels (consistent with DataFrame behavior). To set a value by position, use `ser.iloc[pos] = value`\n",
      "  df['test-2'][2] = timeit.timeit(lambda: rho_pollard(f2, 7031, 5, method=\"modification\"), number=100) / 100\n"
     ]
    },
    {
     "data": {
      "text/html": [
       "<div>\n",
       "<style scoped>\n",
       "    .dataframe tbody tr th:only-of-type {\n",
       "        vertical-align: middle;\n",
       "    }\n",
       "\n",
       "    .dataframe tbody tr th {\n",
       "        vertical-align: top;\n",
       "    }\n",
       "\n",
       "    .dataframe thead th {\n",
       "        text-align: right;\n",
       "    }\n",
       "</style>\n",
       "<table border=\"1\" class=\"dataframe\">\n",
       "  <thead>\n",
       "    <tr style=\"text-align: right;\">\n",
       "      <th></th>\n",
       "      <th>test-1</th>\n",
       "      <th>test-2</th>\n",
       "    </tr>\n",
       "  </thead>\n",
       "  <tbody>\n",
       "    <tr>\n",
       "      <th>classic</th>\n",
       "      <td>0.000007</td>\n",
       "      <td>0.000014</td>\n",
       "    </tr>\n",
       "    <tr>\n",
       "      <th>floyd</th>\n",
       "      <td>0.000003</td>\n",
       "      <td>0.000011</td>\n",
       "    </tr>\n",
       "    <tr>\n",
       "      <th>modification</th>\n",
       "      <td>0.000005</td>\n",
       "      <td>0.000013</td>\n",
       "    </tr>\n",
       "  </tbody>\n",
       "</table>\n",
       "</div>"
      ],
      "text/plain": [
       "                test-1    test-2\n",
       "classic       0.000007  0.000014\n",
       "floyd         0.000003  0.000011\n",
       "modification  0.000005  0.000013"
      ]
     },
     "execution_count": 76,
     "metadata": {},
     "output_type": "execute_result"
    }
   ],
   "source": [
    "fake_stdout = io.StringIO()\n",
    "\n",
    "with contextlib.redirect_stdout(fake_stdout):\n",
    "    df['test-1'][0] = timeit.timeit(lambda: rho_pollard(f1, 527, 1, method=\"classic\"), number=100) / 100\n",
    "    df['test-1'][1] = timeit.timeit(lambda: rho_pollard(f1, 527, 1, method=\"floyd\"), number=100) / 100\n",
    "    df['test-1'][2] = timeit.timeit(lambda: rho_pollard(f1, 527, 1, method=\"modification\"), number=100) / 100\n",
    "    df['test-2'][0] = timeit.timeit(lambda: rho_pollard(f2, 7031, 5, method=\"classic\"), number=100) / 100\n",
    "    df['test-2'][1] = timeit.timeit(lambda: rho_pollard(f2, 7031, 5, method=\"floyd\"), number=100) / 100\n",
    "    df['test-2'][2] = timeit.timeit(lambda: rho_pollard(f2, 7031, 5, method=\"modification\"), number=100) / 100\n",
    "\n",
    "df"
   ]
  }
 ],
 "metadata": {
  "kernelspec": {
   "display_name": "Python 3",
   "language": "python",
   "name": "python3"
  },
  "language_info": {
   "codemirror_mode": {
    "name": "ipython",
    "version": 3
   },
   "file_extension": ".py",
   "mimetype": "text/x-python",
   "name": "python",
   "nbconvert_exporter": "python",
   "pygments_lexer": "ipython3",
   "version": "3.11.4"
  }
 },
 "nbformat": 4,
 "nbformat_minor": 2
}
